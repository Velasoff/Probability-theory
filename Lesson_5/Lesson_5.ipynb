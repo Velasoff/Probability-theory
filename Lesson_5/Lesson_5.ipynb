{
 "cells": [
  {
   "cell_type": "markdown",
   "metadata": {},
   "source": [
    "1. Известно, что генеральная совокупность распределена нормально со средним квадратическим отклонением, равным 16. Найти доверительный интервал для оценки математического ожидания a с надежностью 0.95, если выборочная средняя M = 80, а объем выборки n = 256."
   ]
  },
  {
   "cell_type": "code",
   "execution_count": 1,
   "metadata": {},
   "outputs": [],
   "source": [
    "sigma <- 16\n",
    "gamma <- 0.95\n",
    "m <- 80\n",
    "n <- 256"
   ]
  },
  {
   "cell_type": "markdown",
   "metadata": {},
   "source": [
    "    Сначала найдём обратное значение функции стандартного нормального распределения."
   ]
  },
  {
   "cell_type": "code",
   "execution_count": 2,
   "metadata": {},
   "outputs": [
    {
     "data": {
      "text/html": [
       "1.95996398454005"
      ],
      "text/latex": [
       "1.95996398454005"
      ],
      "text/markdown": [
       "1.95996398454005"
      ],
      "text/plain": [
       "[1] 1.959964"
      ]
     },
     "metadata": {},
     "output_type": "display_data"
    }
   ],
   "source": [
    "c <- qnorm((gamma + 1) / 2)\n",
    "c"
   ]
  },
  {
   "cell_type": "markdown",
   "metadata": {},
   "source": [
    "    Найдем верхнюю границу доверительного интервала:"
   ]
  },
  {
   "cell_type": "code",
   "execution_count": 3,
   "metadata": {},
   "outputs": [
    {
     "data": {
      "text/html": [
       "81.9599639845401"
      ],
      "text/latex": [
       "81.9599639845401"
      ],
      "text/markdown": [
       "81.9599639845401"
      ],
      "text/plain": [
       "[1] 81.95996"
      ]
     },
     "metadata": {},
     "output_type": "display_data"
    }
   ],
   "source": [
    "t_1 <- m + sigma * c / sqrt(n)\n",
    "t_1"
   ]
  },
  {
   "cell_type": "markdown",
   "metadata": {},
   "source": [
    "    Найдём нижнюю границу доверительного интервала:"
   ]
  },
  {
   "cell_type": "code",
   "execution_count": 4,
   "metadata": {},
   "outputs": [
    {
     "data": {
      "text/html": [
       "78.0400360154599"
      ],
      "text/latex": [
       "78.0400360154599"
      ],
      "text/markdown": [
       "78.0400360154599"
      ],
      "text/plain": [
       "[1] 78.04004"
      ]
     },
     "metadata": {},
     "output_type": "display_data"
    }
   ],
   "source": [
    "t_2 <- m - sigma * c / sqrt(n)\n",
    "t_2"
   ]
  },
  {
   "cell_type": "markdown",
   "metadata": {},
   "source": [
    "    Значит доверительный интервал равен:"
   ]
  },
  {
   "cell_type": "code",
   "execution_count": 5,
   "metadata": {},
   "outputs": [
    {
     "data": {
      "text/html": [
       "<ol class=list-inline>\n",
       "\t<li>78.0400360154599</li>\n",
       "\t<li>81.9599639845401</li>\n",
       "</ol>\n"
      ],
      "text/latex": [
       "\\begin{enumerate*}\n",
       "\\item 78.0400360154599\n",
       "\\item 81.9599639845401\n",
       "\\end{enumerate*}\n"
      ],
      "text/markdown": [
       "1. 78.0400360154599\n",
       "2. 81.9599639845401\n",
       "\n",
       "\n"
      ],
      "text/plain": [
       "[1] 78.04004 81.95996"
      ]
     },
     "metadata": {},
     "output_type": "display_data"
    }
   ],
   "source": [
    "c(t_2, t_1)"
   ]
  },
  {
   "cell_type": "markdown",
   "metadata": {},
   "source": [
    "2. В результате 10 независимых измерений некоторой величины X, выполненных с одинаковой точностью, получены опытные данные: 6.9, 6.1, 6.2, 6.8, 7.5, 6.3, 6.4, 6.9, 6.7, 6.1 Предполагая, что результаты измерений подчинены нормальному закону распределения вероятностей, оценить истинное значение величины X при помощи доверительного интервала, покрывающего это значение с доверительной вероятностью 0,95."
   ]
  },
  {
   "cell_type": "markdown",
   "metadata": {},
   "source": [
    "    Создаём массив данных измерений и записываем в соответствующие значения необходимые показатели выборки:"
   ]
  },
  {
   "cell_type": "code",
   "execution_count": 6,
   "metadata": {},
   "outputs": [],
   "source": [
    "x <- c(6.9, 6.1, 6.2, 6.8, 7.5, 6.3, 6.4, 6.9, 6.7, 6.1)\n",
    "m <- mean(x)\n",
    "sigma <- sd(x)\n",
    "n <- 10"
   ]
  },
  {
   "cell_type": "markdown",
   "metadata": {},
   "source": [
    "    Так как доверительная вероятность совпадает с предыдущей задачей, то будем использовать существующую величину:"
   ]
  },
  {
   "cell_type": "code",
   "execution_count": 7,
   "metadata": {},
   "outputs": [
    {
     "data": {
      "text/html": [
       "1.95996398454005"
      ],
      "text/latex": [
       "1.95996398454005"
      ],
      "text/markdown": [
       "1.95996398454005"
      ],
      "text/plain": [
       "[1] 1.959964"
      ]
     },
     "metadata": {},
     "output_type": "display_data"
    }
   ],
   "source": [
    "c"
   ]
  },
  {
   "cell_type": "markdown",
   "metadata": {},
   "source": [
    "    Найдем верхнюю границу доверительного интервала:"
   ]
  },
  {
   "cell_type": "code",
   "execution_count": 8,
   "metadata": {},
   "outputs": [
    {
     "data": {
      "text/html": [
       "6.86940468824209"
      ],
      "text/latex": [
       "6.86940468824209"
      ],
      "text/markdown": [
       "6.86940468824209"
      ],
      "text/plain": [
       "[1] 6.869405"
      ]
     },
     "metadata": {},
     "output_type": "display_data"
    }
   ],
   "source": [
    "t_1 <- m + sigma * c / sqrt(n)\n",
    "t_1"
   ]
  },
  {
   "cell_type": "markdown",
   "metadata": {},
   "source": [
    "    Найдём нижнюю границу доверительного интервала:"
   ]
  },
  {
   "cell_type": "code",
   "execution_count": 9,
   "metadata": {},
   "outputs": [
    {
     "data": {
      "text/html": [
       "6.31059531175791"
      ],
      "text/latex": [
       "6.31059531175791"
      ],
      "text/markdown": [
       "6.31059531175791"
      ],
      "text/plain": [
       "[1] 6.310595"
      ]
     },
     "metadata": {},
     "output_type": "display_data"
    }
   ],
   "source": [
    "t_2 <- m - sigma * c / sqrt(n)\n",
    "t_2"
   ]
  },
  {
   "cell_type": "markdown",
   "metadata": {},
   "source": [
    "    Значит с надежностью в 0.95 мы можем сказать, что величина Х находится в данном интервале:"
   ]
  },
  {
   "cell_type": "code",
   "execution_count": 10,
   "metadata": {},
   "outputs": [
    {
     "data": {
      "text/html": [
       "<ol class=list-inline>\n",
       "\t<li>6.31059531175791</li>\n",
       "\t<li>6.86940468824209</li>\n",
       "</ol>\n"
      ],
      "text/latex": [
       "\\begin{enumerate*}\n",
       "\\item 6.31059531175791\n",
       "\\item 6.86940468824209\n",
       "\\end{enumerate*}\n"
      ],
      "text/markdown": [
       "1. 6.31059531175791\n",
       "2. 6.86940468824209\n",
       "\n",
       "\n"
      ],
      "text/plain": [
       "[1] 6.310595 6.869405"
      ]
     },
     "metadata": {},
     "output_type": "display_data"
    }
   ],
   "source": [
    "c(t_2, t_1)"
   ]
  },
  {
   "cell_type": "markdown",
   "metadata": {},
   "source": [
    "3. Утверждается, что шарики для подшипников, изготовленные автоматическим станком, имеют средний диаметр 17 мм. Используя односторонний критерий с α=0,05, проверить эту гипотезу, если в выборке из n=100 шариков средний диаметр оказался равным 17.5 мм, а дисперсия известна и равна 4 кв.мм."
   ]
  },
  {
   "cell_type": "code",
   "execution_count": 11,
   "metadata": {},
   "outputs": [],
   "source": [
    "m_0 <- 17\n",
    "m <- 17.5\n",
    "n <- 100\n",
    "sigma <- 4\n",
    "alpha <- 0.05"
   ]
  },
  {
   "cell_type": "markdown",
   "metadata": {},
   "source": [
    "    Наблюдаемое значение критерия равно:"
   ]
  },
  {
   "cell_type": "code",
   "execution_count": 12,
   "metadata": {},
   "outputs": [
    {
     "data": {
      "text/html": [
       "1.25"
      ],
      "text/latex": [
       "1.25"
      ],
      "text/markdown": [
       "1.25"
      ],
      "text/plain": [
       "[1] 1.25"
      ]
     },
     "metadata": {},
     "output_type": "display_data"
    }
   ],
   "source": [
    "f <- (m - m_0) * sqrt(n) / sigma\n",
    "f"
   ]
  },
  {
   "cell_type": "markdown",
   "metadata": {},
   "source": [
    "    При этом критическую точку для данного одностороннего критерия найдём как обратное значение функции стандартного нормального распределения от вероятности принятия правильной гипотезы:"
   ]
  },
  {
   "cell_type": "code",
   "execution_count": 13,
   "metadata": {},
   "outputs": [
    {
     "data": {
      "text/html": [
       "1.64485362695147"
      ],
      "text/latex": [
       "1.64485362695147"
      ],
      "text/markdown": [
       "1.64485362695147"
      ],
      "text/plain": [
       "[1] 1.644854"
      ]
     },
     "metadata": {},
     "output_type": "display_data"
    }
   ],
   "source": [
    "c <- qnorm(1 - alpha)\n",
    "c"
   ]
  },
  {
   "cell_type": "markdown",
   "metadata": {},
   "source": [
    "    Так как критическая точка выше, чем наблюдаемое значение критерия (1.25 < с), то можем утверждать, что можем принять существующую нулевую гипотезу."
   ]
  },
  {
   "cell_type": "markdown",
   "metadata": {},
   "source": [
    "4. Продавец утверждает, что средний вес пачки печенья составляет 200 г. Из партии извлечена выборка из 10 пачек. Вес каждой пачки составляет: 202, 203, 199, 197, 195, 201, 200, 204, 194, 190. Известно, что их веса распределены нормально. Верно ли утверждение продавца, если учитывать, что доверительная вероятность равна 99%?"
   ]
  },
  {
   "cell_type": "markdown",
   "metadata": {},
   "source": [
    "    Создаём массив данных измерений и записываем в соответствующие значения необходимые показатели выборки:"
   ]
  },
  {
   "cell_type": "code",
   "execution_count": 14,
   "metadata": {},
   "outputs": [],
   "source": [
    "x <- c(202, 203, 199, 197, 195, 201, 200, 204, 194, 190)\n",
    "m_0 <- 200\n",
    "m <- mean(x)\n",
    "sigma <- sd(x)\n",
    "n <- 10\n",
    "gamma <- 0.99"
   ]
  },
  {
   "cell_type": "markdown",
   "metadata": {},
   "source": [
    "    Наблюдаемое значение критерия равно:"
   ]
  },
  {
   "cell_type": "code",
   "execution_count": 15,
   "metadata": {},
   "outputs": [
    {
     "data": {
      "text/html": [
       "-1.06510740374509"
      ],
      "text/latex": [
       "-1.06510740374509"
      ],
      "text/markdown": [
       "-1.06510740374509"
      ],
      "text/plain": [
       "[1] -1.065107"
      ]
     },
     "metadata": {},
     "output_type": "display_data"
    }
   ],
   "source": [
    "f <- (m - m_0) * sqrt(n) / sigma\n",
    "f"
   ]
  },
  {
   "cell_type": "markdown",
   "metadata": {},
   "source": [
    "    В данном случае будем использовать таблицу критических значений t-критерия Стьюдента. Значение по таблице с количеством степеней свободы 9 и уровнем значимости 0.01 равно 3.25. И так как наблюдаемое значение критерия меньше критического значения (1.065 < 3.25), то можем принять существующую нулевую гипотезу."
   ]
  }
 ],
 "metadata": {
  "kernelspec": {
   "display_name": "R",
   "language": "R",
   "name": "ir"
  },
  "language_info": {
   "codemirror_mode": "r",
   "file_extension": ".r",
   "mimetype": "text/x-r-source",
   "name": "R",
   "pygments_lexer": "r",
   "version": "3.6.1"
  }
 },
 "nbformat": 4,
 "nbformat_minor": 4
}
