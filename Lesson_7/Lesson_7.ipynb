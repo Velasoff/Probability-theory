{
 "cells": [
  {
   "cell_type": "markdown",
   "metadata": {},
   "source": [
    "1. Даны значения величины заработной платы заемщиков банка (zp) и значения их поведенческого кредитного скоринга (ks): zp = [35, 45, 190, 200, 40, 70, 54, 150, 120, 110], ks = [401, 574, 874, 919, 459, 739, 653, 902, 746, 832]. Используя математические операции, посчитать коэффициенты линейной регрессии, приняв за X заработную плату (то есть, zp - признак), а за y - значения скорингового балла (то есть, ks - целевая переменная). Произвести расчет как с использованием intercept, так и без."
   ]
  },
  {
   "cell_type": "code",
   "execution_count": 1,
   "metadata": {},
   "outputs": [],
   "source": [
    "zp <- c(35, 45, 190, 200, 40, 70, 54, 150, 120, 110)\n",
    "ks <- c(401, 574, 874, 919, 459, 739, 653, 902, 746, 832)"
   ]
  },
  {
   "cell_type": "markdown",
   "metadata": {},
   "source": [
    "    Найдём сначала с помощью корреляционного анализа уровень взаимосвязи величин."
   ]
  },
  {
   "cell_type": "code",
   "execution_count": 2,
   "metadata": {},
   "outputs": [
    {
     "data": {
      "text/html": [
       "0.887490092073916"
      ],
      "text/latex": [
       "0.887490092073916"
      ],
      "text/markdown": [
       "0.887490092073916"
      ],
      "text/plain": [
       "[1] 0.8874901"
      ]
     },
     "metadata": {},
     "output_type": "display_data"
    }
   ],
   "source": [
    "r = cov(zp, ks) / (sd(zp) * sd(ks))\n",
    "r"
   ]
  },
  {
   "cell_type": "markdown",
   "metadata": {},
   "source": [
    "    Значит без интерсепта линейная модель примет вид:"
   ]
  },
  {
   "cell_type": "markdown",
   "metadata": {},
   "source": [
    "\\begin{align}\n",
    "y & = 0,887  x \\\\\n",
    "\\end{align}"
   ]
  },
  {
   "cell_type": "markdown",
   "metadata": {},
   "source": [
    "    Рассчитаем с Intercept:"
   ]
  },
  {
   "cell_type": "code",
   "execution_count": 3,
   "metadata": {},
   "outputs": [
    {
     "data": {
      "text/html": [
       "2.62053888240276"
      ],
      "text/latex": [
       "2.62053888240276"
      ],
      "text/markdown": [
       "2.62053888240276"
      ],
      "text/plain": [
       "[1] 2.620539"
      ]
     },
     "metadata": {},
     "output_type": "display_data"
    }
   ],
   "source": [
    "b <- (mean(zp*ks) - mean(zp) * mean(ks)) / (mean(zp^2) - mean(zp)^2)\n",
    "b"
   ]
  },
  {
   "cell_type": "markdown",
   "metadata": {},
   "source": [
    "    Находим Intercept."
   ]
  },
  {
   "cell_type": "code",
   "execution_count": 4,
   "metadata": {},
   "outputs": [
    {
     "data": {
      "text/html": [
       "444.17735732436"
      ],
      "text/latex": [
       "444.17735732436"
      ],
      "text/markdown": [
       "444.17735732436"
      ],
      "text/plain": [
       "[1] 444.1774"
      ]
     },
     "metadata": {},
     "output_type": "display_data"
    }
   ],
   "source": [
    "a <- mean(ks) - mean(zp) * b\n",
    "a"
   ]
  },
  {
   "cell_type": "markdown",
   "metadata": {},
   "source": [
    "    Следовательно линейная модель принимает вид:"
   ]
  },
  {
   "cell_type": "markdown",
   "metadata": {},
   "source": [
    "\\begin{align}\n",
    "y & = 444.177 + 2.62  x \\\\\n",
    "\\end{align}"
   ]
  },
  {
   "cell_type": "markdown",
   "metadata": {},
   "source": [
    "    Посмотрим на среднюю квадратичную ошибку этих моделей:\n",
    "    Сначала на первую:"
   ]
  },
  {
   "cell_type": "code",
   "execution_count": 5,
   "metadata": {},
   "outputs": [
    {
     "data": {
      "text/html": [
       "401252.973203911"
      ],
      "text/latex": [
       "401252.973203911"
      ],
      "text/markdown": [
       "401252.973203911"
      ],
      "text/plain": [
       "[1] 401253"
      ]
     },
     "metadata": {},
     "output_type": "display_data"
    }
   ],
   "source": [
    "ks_hat <- r * zp\n",
    "mse_1 <- sum((ks - ks_hat) ^ 2)/length(ks)\n",
    "mse_1"
   ]
  },
  {
   "cell_type": "code",
   "execution_count": 6,
   "metadata": {},
   "outputs": [
    {
     "data": {
      "text/html": [
       "6470.41420117666"
      ],
      "text/latex": [
       "6470.41420117666"
      ],
      "text/markdown": [
       "6470.41420117666"
      ],
      "text/plain": [
       "[1] 6470.414"
      ]
     },
     "metadata": {},
     "output_type": "display_data"
    }
   ],
   "source": [
    "ks_hat <- a + b * zp\n",
    "mse_2 <- sum((ks - ks_hat) ^ 2)/length(ks)\n",
    "mse_2"
   ]
  },
  {
   "cell_type": "markdown",
   "metadata": {},
   "source": [
    "2. Посчитать коэффициент линейной регрессии при заработной плате (zp), используя градиентный спуск (без intercept)."
   ]
  },
  {
   "cell_type": "code",
   "execution_count": 13,
   "metadata": {},
   "outputs": [],
   "source": [
    "b <- 0.1\n",
    "n <- 10\n",
    "alpha <- 1e-6"
   ]
  },
  {
   "cell_type": "code",
   "execution_count": 14,
   "metadata": {},
   "outputs": [
    {
     "data": {
      "text/html": [
       "5.88982042013267"
      ],
      "text/latex": [
       "5.88982042013267"
      ],
      "text/markdown": [
       "5.88982042013267"
      ],
      "text/plain": [
       "[1] 5.88982"
      ]
     },
     "metadata": {},
     "output_type": "display_data"
    }
   ],
   "source": [
    "for (i in 1:5000){\n",
    "    b <- b - alpha*(2/n)*sum((b*zp-ks)*zp)\n",
    "}\n",
    "b"
   ]
  },
  {
   "cell_type": "markdown",
   "metadata": {},
   "source": [
    "3. В каких случаях для вычисления доверительных интервалов и проверки статистических гипотез используется таблица значений функции Лапласа, а в каких - таблица критических точек распределения Стьюдента?"
   ]
  },
  {
   "cell_type": "markdown",
   "metadata": {},
   "source": [
    "    Таблица значений функции Лапласа используется в случаях, когда параметры выборки известны, или выборка достаточно большая. Если же выборка мала, то используется таблица Стьюдента."
   ]
  },
  {
   "cell_type": "code",
   "execution_count": null,
   "metadata": {},
   "outputs": [],
   "source": []
  }
 ],
 "metadata": {
  "kernelspec": {
   "display_name": "R",
   "language": "R",
   "name": "ir"
  },
  "language_info": {
   "codemirror_mode": "r",
   "file_extension": ".r",
   "mimetype": "text/x-r-source",
   "name": "R",
   "pygments_lexer": "r",
   "version": "3.6.1"
  }
 },
 "nbformat": 4,
 "nbformat_minor": 4
}
