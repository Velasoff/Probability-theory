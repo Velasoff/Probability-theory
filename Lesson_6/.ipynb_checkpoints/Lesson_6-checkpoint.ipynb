{
 "cells": [
  {
   "cell_type": "markdown",
   "metadata": {},
   "source": [
    "1. Даны значения величины заработной платы заемщиков банка (zp) и значения их поведенческого кредитного скоринга (ks): zp = [35, 45, 190, 200, 40, 70, 54, 150, 120, 110], ks = [401, 574, 874, 919, 459, 739, 653, 902, 746, 832]. Найдите ковариацию этих двух величин с помощью элементарных действий, а затем с помощью функции cov из numpy. Полученные значения должны быть равны. Найдите коэффициент корреляции Пирсона с помощью ковариации и среднеквадратичных отклонений двух признаков, а затем с использованием функций из библиотек numpy и pandas."
   ]
  },
  {
   "cell_type": "code",
   "execution_count": 1,
   "metadata": {},
   "outputs": [],
   "source": [
    "zp <- c(35, 45, 190, 200, 40, 70, 54, 150, 120, 110)\n",
    "ks <- c(401, 574, 874, 919, 459, 739, 653, 902, 746, 832)"
   ]
  },
  {
   "cell_type": "markdown",
   "metadata": {},
   "source": [
    "    Сначала найдём средние значения величин. Буду пользоваться программными средствами языка для нахождения промежуточных значений."
   ]
  },
  {
   "cell_type": "code",
   "execution_count": 2,
   "metadata": {},
   "outputs": [],
   "source": [
    "mean_zp <- mean(zp)\n",
    "mean_ks <- mean(ks)"
   ]
  },
  {
   "cell_type": "markdown",
   "metadata": {},
   "source": [
    "    Найдем верхнюю границу доверительного интервала:"
   ]
  },
  {
   "cell_type": "code",
   "execution_count": 3,
   "metadata": {},
   "outputs": [
    {
     "data": {
      "text/html": [
       "9157.84"
      ],
      "text/latex": [
       "9157.84"
      ],
      "text/markdown": [
       "9157.84"
      ],
      "text/plain": [
       "[1] 9157.84"
      ]
     },
     "metadata": {},
     "output_type": "display_data"
    }
   ],
   "source": [
    "cov_zp_ks <- mean(zp*ks) - mean_zp * mean_ks\n",
    "cov_zp_ks"
   ]
  },
  {
   "cell_type": "markdown",
   "metadata": {},
   "source": [
    "    Найдём ковариацию программными средствами:"
   ]
  },
  {
   "cell_type": "code",
   "execution_count": 4,
   "metadata": {},
   "outputs": [
    {
     "data": {
      "text/html": [
       "10175.3777777778"
      ],
      "text/latex": [
       "10175.3777777778"
      ],
      "text/markdown": [
       "10175.3777777778"
      ],
      "text/plain": [
       "[1] 10175.38"
      ]
     },
     "metadata": {},
     "output_type": "display_data"
    }
   ],
   "source": [
    "cov(zp, ks)"
   ]
  },
  {
   "cell_type": "markdown",
   "metadata": {},
   "source": [
    "    Значения не совпадают. Сразу было найдена проблема несовпадения. В R функция cov даёт смещенную оценку. В Python это легко устраняется атрибутом ddof, в то время как в R я ничего подобного не нашёл. "
   ]
  },
  {
   "cell_type": "markdown",
   "metadata": {},
   "source": [
    "    В Python результат 9157.84 выдаёт строка: np.cov(zp, ks, ddof=0)[0][1] "
   ]
  },
  {
   "cell_type": "markdown",
   "metadata": {},
   "source": [
    "    Приведу к смещенной оценке cov:"
   ]
  },
  {
   "cell_type": "code",
   "execution_count": 5,
   "metadata": {},
   "outputs": [
    {
     "data": {
      "text/html": [
       "<ol class=list-inline>\n",
       "\t<li>10175.3777777778</li>\n",
       "\t<li>10175.3777777778</li>\n",
       "</ol>\n"
      ],
      "text/latex": [
       "\\begin{enumerate*}\n",
       "\\item 10175.3777777778\n",
       "\\item 10175.3777777778\n",
       "\\end{enumerate*}\n"
      ],
      "text/markdown": [
       "1. 10175.3777777778\n",
       "2. 10175.3777777778\n",
       "\n",
       "\n"
      ],
      "text/plain": [
       "[1] 10175.38 10175.38"
      ]
     },
     "metadata": {},
     "output_type": "display_data"
    }
   ],
   "source": [
    "cov_zp_ks <- cov_zp_ks * 10 / 9\n",
    "c(cov_zp_ks, cov(zp, ks))"
   ]
  },
  {
   "cell_type": "markdown",
   "metadata": {},
   "source": [
    "    Теперь, как видно, значения стали равны. Поэтому можем перейти к следующему этапу."
   ]
  },
  {
   "cell_type": "markdown",
   "metadata": {},
   "source": [
    "    Найдём коэффициент корреляции Пирсона:"
   ]
  },
  {
   "cell_type": "code",
   "execution_count": 6,
   "metadata": {},
   "outputs": [
    {
     "data": {
      "text/html": [
       "0.887490092073916"
      ],
      "text/latex": [
       "0.887490092073916"
      ],
      "text/markdown": [
       "0.887490092073916"
      ],
      "text/plain": [
       "[1] 0.8874901"
      ]
     },
     "metadata": {},
     "output_type": "display_data"
    }
   ],
   "source": [
    "r <- cov_zp_ks / (sd(zp) * sd(ks))\n",
    "r"
   ]
  },
  {
   "cell_type": "markdown",
   "metadata": {},
   "source": [
    "    В языке R корреляция Пирсона представлена функцией cor, поэтому буду использовать её."
   ]
  },
  {
   "cell_type": "code",
   "execution_count": 7,
   "metadata": {},
   "outputs": [
    {
     "data": {
      "text/html": [
       "<ol class=list-inline>\n",
       "\t<li>0.887490092073916</li>\n",
       "\t<li>0.887490092073916</li>\n",
       "</ol>\n"
      ],
      "text/latex": [
       "\\begin{enumerate*}\n",
       "\\item 0.887490092073916\n",
       "\\item 0.887490092073916\n",
       "\\end{enumerate*}\n"
      ],
      "text/markdown": [
       "1. 0.887490092073916\n",
       "2. 0.887490092073916\n",
       "\n",
       "\n"
      ],
      "text/plain": [
       "[1] 0.8874901 0.8874901"
      ]
     },
     "metadata": {},
     "output_type": "display_data"
    }
   ],
   "source": [
    "c(cor(zp, ks), r)"
   ]
  },
  {
   "cell_type": "markdown",
   "metadata": {},
   "source": [
    "    Как видно, получившиеся значения совпадают."
   ]
  },
  {
   "cell_type": "markdown",
   "metadata": {},
   "source": [
    "2. Измерены значения IQ выборки студентов, обучающихся в местных технических вузах:  131, 125, 115, 122, 131, 115, 107, 99, 125, 111. Известно, что в генеральной совокупности IQ распределен нормально. Найдите доверительный интервал для математического ожидания с надежностью 0.95."
   ]
  },
  {
   "cell_type": "markdown",
   "metadata": {},
   "source": [
    "    Создаём массив данных измерений и записываем в соответствующие значения необходимые показатели выборки:"
   ]
  },
  {
   "cell_type": "code",
   "execution_count": 8,
   "metadata": {},
   "outputs": [],
   "source": [
    "x <- c(131, 125, 115, 122, 131, 115, 107, 99, 125, 111)\n",
    "m <- mean(x)\n",
    "sigma <- sd(x)\n",
    "n <- 10"
   ]
  },
  {
   "cell_type": "markdown",
   "metadata": {},
   "source": [
    "    Найдём обратное значение функции стандартного нормального распределения по таблице Стьюдента. При количестве степеней свободы 9 и уровнем значимости 0.05 равно 2.262."
   ]
  },
  {
   "cell_type": "code",
   "execution_count": 9,
   "metadata": {},
   "outputs": [],
   "source": [
    "c <- 2.262"
   ]
  },
  {
   "cell_type": "markdown",
   "metadata": {},
   "source": [
    "    Найдем верхнюю границу доверительного интервала:"
   ]
  },
  {
   "cell_type": "code",
   "execution_count": 10,
   "metadata": {},
   "outputs": [
    {
     "data": {
      "text/html": [
       "125.643392236918"
      ],
      "text/latex": [
       "125.643392236918"
      ],
      "text/markdown": [
       "125.643392236918"
      ],
      "text/plain": [
       "[1] 125.6434"
      ]
     },
     "metadata": {},
     "output_type": "display_data"
    }
   ],
   "source": [
    "t_1 <- m + sigma * c / sqrt(n)\n",
    "t_1"
   ]
  },
  {
   "cell_type": "markdown",
   "metadata": {},
   "source": [
    "    Найдём нижнюю границу доверительного интервала:"
   ]
  },
  {
   "cell_type": "code",
   "execution_count": 11,
   "metadata": {},
   "outputs": [
    {
     "data": {
      "text/html": [
       "110.556607763082"
      ],
      "text/latex": [
       "110.556607763082"
      ],
      "text/markdown": [
       "110.556607763082"
      ],
      "text/plain": [
       "[1] 110.5566"
      ]
     },
     "metadata": {},
     "output_type": "display_data"
    }
   ],
   "source": [
    "t_2 <- m - sigma * c / sqrt(n)\n",
    "t_2"
   ]
  },
  {
   "cell_type": "markdown",
   "metadata": {},
   "source": [
    "    Значит с надежностью в 0.95 мы можем сказать, что величина Х находится в данном интервале:"
   ]
  },
  {
   "cell_type": "code",
   "execution_count": 12,
   "metadata": {},
   "outputs": [
    {
     "data": {
      "text/html": [
       "<ol class=list-inline>\n",
       "\t<li>110.556607763082</li>\n",
       "\t<li>125.643392236918</li>\n",
       "</ol>\n"
      ],
      "text/latex": [
       "\\begin{enumerate*}\n",
       "\\item 110.556607763082\n",
       "\\item 125.643392236918\n",
       "\\end{enumerate*}\n"
      ],
      "text/markdown": [
       "1. 110.556607763082\n",
       "2. 125.643392236918\n",
       "\n",
       "\n"
      ],
      "text/plain": [
       "[1] 110.5566 125.6434"
      ]
     },
     "metadata": {},
     "output_type": "display_data"
    }
   ],
   "source": [
    "c(t_2, t_1)"
   ]
  },
  {
   "cell_type": "markdown",
   "metadata": {},
   "source": [
    "3.  Известно, что рост футболистов в сборной распределен нормально с дисперсией генеральной совокупности, равной 25 кв.см. Объем выборки равен 27, среднее выборочное составляет 174.2. Найдите доверительный интервал для математического ожидания с надежностью 0.95."
   ]
  },
  {
   "cell_type": "code",
   "execution_count": 13,
   "metadata": {},
   "outputs": [],
   "source": [
    "sigma <- 25\n",
    "gamma <- 0.95\n",
    "m <- 174.2\n",
    "n <- 27"
   ]
  },
  {
   "cell_type": "markdown",
   "metadata": {},
   "source": [
    "    Сначала найдём обратное значение функции стандартного нормального распределения."
   ]
  },
  {
   "cell_type": "code",
   "execution_count": 14,
   "metadata": {},
   "outputs": [
    {
     "data": {
      "text/html": [
       "1.95996398454005"
      ],
      "text/latex": [
       "1.95996398454005"
      ],
      "text/markdown": [
       "1.95996398454005"
      ],
      "text/plain": [
       "[1] 1.959964"
      ]
     },
     "metadata": {},
     "output_type": "display_data"
    }
   ],
   "source": [
    "c <- qnorm((gamma + 1) / 2)\n",
    "c"
   ]
  },
  {
   "cell_type": "markdown",
   "metadata": {},
   "source": [
    "    Найдем верхнюю границу доверительного интервала:"
   ]
  },
  {
   "cell_type": "code",
   "execution_count": 15,
   "metadata": {},
   "outputs": [
    {
     "data": {
      "text/html": [
       "183.629881117301"
      ],
      "text/latex": [
       "183.629881117301"
      ],
      "text/markdown": [
       "183.629881117301"
      ],
      "text/plain": [
       "[1] 183.6299"
      ]
     },
     "metadata": {},
     "output_type": "display_data"
    }
   ],
   "source": [
    "t_1 <- m + sigma * c / sqrt(n)\n",
    "t_1"
   ]
  },
  {
   "cell_type": "markdown",
   "metadata": {},
   "source": [
    "    Найдём нижнюю границу доверительного интервала:"
   ]
  },
  {
   "cell_type": "code",
   "execution_count": 16,
   "metadata": {},
   "outputs": [
    {
     "data": {
      "text/html": [
       "164.770118882699"
      ],
      "text/latex": [
       "164.770118882699"
      ],
      "text/markdown": [
       "164.770118882699"
      ],
      "text/plain": [
       "[1] 164.7701"
      ]
     },
     "metadata": {},
     "output_type": "display_data"
    }
   ],
   "source": [
    "t_2 <- m - sigma * c / sqrt(n)\n",
    "t_2"
   ]
  },
  {
   "cell_type": "markdown",
   "metadata": {},
   "source": [
    "    Доверительный интервал равен:"
   ]
  },
  {
   "cell_type": "code",
   "execution_count": 17,
   "metadata": {},
   "outputs": [
    {
     "data": {
      "text/html": [
       "<ol class=list-inline>\n",
       "\t<li>164.770118882699</li>\n",
       "\t<li>183.629881117301</li>\n",
       "</ol>\n"
      ],
      "text/latex": [
       "\\begin{enumerate*}\n",
       "\\item 164.770118882699\n",
       "\\item 183.629881117301\n",
       "\\end{enumerate*}\n"
      ],
      "text/markdown": [
       "1. 164.770118882699\n",
       "2. 183.629881117301\n",
       "\n",
       "\n"
      ],
      "text/plain": [
       "[1] 164.7701 183.6299"
      ]
     },
     "metadata": {},
     "output_type": "display_data"
    }
   ],
   "source": [
    "c(t_2, t_1)"
   ]
  }
 ],
 "metadata": {
  "kernelspec": {
   "display_name": "R",
   "language": "R",
   "name": "ir"
  },
  "language_info": {
   "codemirror_mode": "r",
   "file_extension": ".r",
   "mimetype": "text/x-r-source",
   "name": "R",
   "pygments_lexer": "r",
   "version": "3.6.1"
  }
 },
 "nbformat": 4,
 "nbformat_minor": 4
}
